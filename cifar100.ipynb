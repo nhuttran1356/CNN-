{
  "nbformat": 4,
  "nbformat_minor": 0,
  "metadata": {
    "colab": {
      "name": "BTCNN.ipynb",
      "provenance": [],
      "collapsed_sections": [],
      "mount_file_id": "1vKua3b-q6CeDxv8ahml8xmJZwFXMIOPq",
      "authorship_tag": "ABX9TyPNOCXXrHcg3kYfQbWmrDZ9",
      "include_colab_link": true
    },
    "kernelspec": {
      "name": "python3",
      "display_name": "Python 3"
    },
    "language_info": {
      "name": "python"
    },
    "accelerator": "GPU"
  },
  "cells": [
    {
      "cell_type": "markdown",
      "metadata": {
        "id": "view-in-github",
        "colab_type": "text"
      },
      "source": [
        "<a href=\"https://colab.research.google.com/github/nhuttran1356/CNN-/blob/main/cifar100.ipynb\" target=\"_parent\"><img src=\"https://colab.research.google.com/assets/colab-badge.svg\" alt=\"Open In Colab\"/></a>"
      ]
    },
    {
      "cell_type": "code",
      "execution_count": 4,
      "metadata": {
        "colab": {
          "base_uri": "https://localhost:8080/"
        },
        "id": "xPke3G1e_d1b",
        "outputId": "6857a545-46b2-443a-94d4-bcdd815d47c9"
      },
      "outputs": [
        {
          "output_type": "stream",
          "name": "stdout",
          "text": [
            "Downloading data from https://www.cs.toronto.edu/~kriz/cifar-100-python.tar.gz\n",
            "169009152/169001437 [==============================] - 2s 0us/step\n",
            "169017344/169001437 [==============================] - 2s 0us/step\n"
          ]
        },
        {
          "output_type": "execute_result",
          "data": {
            "text/plain": [
              "(50000, 32, 32, 3)"
            ]
          },
          "metadata": {},
          "execution_count": 4
        }
      ],
      "source": [
        "import matplotlib.pyplot as plt\n",
        "from keras.datasets import cifar100\n",
        "(x_train,y_train),(x_test,y_test) = cifar100.load_data()\n",
        "x_train.shape # 50000 anh co kich thuoc 32x32\n"
      ]
    },
    {
      "cell_type": "code",
      "source": [
        "\n",
        "plt.imshow(x_train[0])\n"
      ],
      "metadata": {
        "colab": {
          "base_uri": "https://localhost:8080/",
          "height": 283
        },
        "id": "xN66ifor_ikA",
        "outputId": "c029326f-99d5-4375-8229-7283fb48cd4a"
      },
      "execution_count": null,
      "outputs": [
        {
          "output_type": "execute_result",
          "data": {
            "text/plain": [
              "<matplotlib.image.AxesImage at 0x7f4cd286a7d0>"
            ]
          },
          "metadata": {},
          "execution_count": 2
        },
        {
          "output_type": "display_data",
          "data": {
            "text/plain": [
              "<Figure size 432x288 with 1 Axes>"
            ],
            "image/png": "[encoded data removed]"
          },
          "metadata": {
            "needs_background": "light"
          }
        }
      ]
    },
    {
      "cell_type": "code",
      "source": [
        "x_train = x_train.astype('float32')\n",
        "x_test = x_test.astype('float32')\n",
        "x_train = x_train/255\n",
        "x_test = x_test/255"
      ],
      "metadata": {
        "id": "TMtsf7aQ_ufX"
      },
      "execution_count": null,
      "outputs": []
    },
    {
      "cell_type": "code",
      "source": [
        "from tensorflow.keras.utils import to_categorical\n",
        "y_train = to_categorical(y_train,100)\n",
        "y_test = to_categorical(y_test,100)"
      ],
      "metadata": {
        "id": "RoP60g3KAGaX"
      },
      "execution_count": null,
      "outputs": []
    },
    {
      "cell_type": "code",
      "source": [
        "y_train.shape"
      ],
      "metadata": {
        "colab": {
          "base_uri": "https://localhost:8080/"
        },
        "id": "RmAquUC_B2nH",
        "outputId": "f45e7cad-9efe-4360-b8d6-02364dd76188"
      },
      "execution_count": null,
      "outputs": [
        {
          "output_type": "execute_result",
          "data": {
            "text/plain": [
              "(50000, 100)"
            ]
          },
          "metadata": {},
          "execution_count": 5
        }
      ]
    },
    {
      "cell_type": "code",
      "source": [
        "from tensorflow.keras.models import Sequential\n",
        "from tensorflow.keras.layers import Dense, Flatten, Conv2D,MaxPooling2D\n",
        "model = Sequential()\n",
        "model.add(Conv2D(32,(3,3), activation = 'relu', kernel_initializer = 'he_uniform', padding = 'same', input_shape = (32,32,3)))\n",
        "model.add(Conv2D(32,(3,3), activation = 'relu', kernel_initializer = 'he_uniform', padding = 'same'))\n",
        "model.add(MaxPooling2D((2,2)))\n",
        "model.add(Conv2D(64,(3,3), activation = 'relu'))\n",
        "model.add(Conv2D(128,(3,3), activation = 'relu'))\n",
        "model.add(Flatten())\n",
        "model.add(Dense(128,activation = 'relu', kernel_initializer = 'he_uniform'))\n",
        "model.add(Dense(100, activation = 'softmax'))"
      ],
      "metadata": {
        "id": "s2QqY5YrAIzf"
      },
      "execution_count": null,
      "outputs": []
    },
    {
      "cell_type": "code",
      "source": [
        "from tensorflow.keras.optimizers import SGD \n",
        "opt = SGD(lr = 0.01, momentum = 0.9)\n",
        "model.compile(opt, loss = 'categorical_crossentropy', metrics= 'accuracy' )\n",
        "losting = model.fit(x_train,y_train,epochs= 20, batch_size =128, validation_data=(x_test,y_test), verbose = 1)\n",
        "#(doi tuong1 ,doi tuong2 , so lan hoc, gioi han du lieu hoc,doi tuong hoc , dau ra )"
      ],
      "metadata": {
        "colab": {
          "base_uri": "https://localhost:8080/"
        },
        "id": "8mVnv9Y9A9vP",
        "outputId": "696ac82c-7616-4d71-9e78-ad5c6665a947"
      },
      "execution_count": null,
      "outputs": [
        {
          "output_type": "stream",
          "name": "stderr",
          "text": [
            "/usr/local/lib/python3.7/dist-packages/keras/optimizer_v2/gradient_descent.py:102: UserWarning: The `lr` argument is deprecated, use `learning_rate` instead.\n",
            "  super(SGD, self).__init__(name, **kwargs)\n"
          ]
        },
        {
          "output_type": "stream",
          "name": "stdout",
          "text": [
            "Epoch 1/20\n",
            "391/391 [==============================] - 16s 14ms/step - loss: 4.1342 - accuracy: 0.0759 - val_loss: 3.7408 - val_accuracy: 0.1426\n",
            "Epoch 2/20\n",
            "391/391 [==============================] - 5s 12ms/step - loss: 3.3915 - accuracy: 0.1960 - val_loss: 3.1577 - val_accuracy: 0.2364\n",
            "Epoch 3/20\n",
            "391/391 [==============================] - 5s 13ms/step - loss: 2.9217 - accuracy: 0.2816 - val_loss: 2.8332 - val_accuracy: 0.3041\n",
            "Epoch 4/20\n",
            "391/391 [==============================] - 5s 12ms/step - loss: 2.5466 - accuracy: 0.3567 - val_loss: 2.6241 - val_accuracy: 0.3467\n",
            "Epoch 5/20\n",
            "391/391 [==============================] - 5s 12ms/step - loss: 2.2155 - accuracy: 0.4277 - val_loss: 2.5293 - val_accuracy: 0.3734\n",
            "Epoch 6/20\n",
            "391/391 [==============================] - 5s 13ms/step - loss: 1.8746 - accuracy: 0.5019 - val_loss: 2.5628 - val_accuracy: 0.3762\n",
            "Epoch 7/20\n",
            "391/391 [==============================] - 5s 13ms/step - loss: 1.5127 - accuracy: 0.5867 - val_loss: 2.7732 - val_accuracy: 0.3684\n",
            "Epoch 8/20\n",
            "391/391 [==============================] - 5s 13ms/step - loss: 1.0921 - accuracy: 0.6881 - val_loss: 3.1410 - val_accuracy: 0.3584\n",
            "Epoch 9/20\n",
            "391/391 [==============================] - 6s 14ms/step - loss: 0.7123 - accuracy: 0.7869 - val_loss: 3.5865 - val_accuracy: 0.3540\n",
            "Epoch 10/20\n",
            "391/391 [==============================] - 6s 16ms/step - loss: 0.4518 - accuracy: 0.8596 - val_loss: 4.3026 - val_accuracy: 0.3537\n",
            "Epoch 11/20\n",
            "391/391 [==============================] - 8s 20ms/step - loss: 0.3139 - accuracy: 0.9022 - val_loss: 4.6032 - val_accuracy: 0.3441\n",
            "Epoch 12/20\n",
            "391/391 [==============================] - 6s 16ms/step - loss: 0.2549 - accuracy: 0.9191 - val_loss: 5.2172 - val_accuracy: 0.3448\n",
            "Epoch 13/20\n",
            "391/391 [==============================] - 5s 13ms/step - loss: 0.1688 - accuracy: 0.9471 - val_loss: 5.9738 - val_accuracy: 0.3395\n",
            "Epoch 14/20\n",
            "391/391 [==============================] - 5s 13ms/step - loss: 0.1528 - accuracy: 0.9519 - val_loss: 5.6619 - val_accuracy: 0.3440\n",
            "Epoch 15/20\n",
            "391/391 [==============================] - 5s 13ms/step - loss: 0.1201 - accuracy: 0.9627 - val_loss: 6.0480 - val_accuracy: 0.3363\n",
            "Epoch 16/20\n",
            "391/391 [==============================] - 5s 13ms/step - loss: 0.0979 - accuracy: 0.9700 - val_loss: 6.6461 - val_accuracy: 0.3368\n",
            "Epoch 17/20\n",
            "391/391 [==============================] - 5s 13ms/step - loss: 0.0968 - accuracy: 0.9701 - val_loss: 6.6922 - val_accuracy: 0.3452\n",
            "Epoch 18/20\n",
            "391/391 [==============================] - 5s 13ms/step - loss: 0.0669 - accuracy: 0.9800 - val_loss: 7.0873 - val_accuracy: 0.3435\n",
            "Epoch 19/20\n",
            "391/391 [==============================] - 5s 13ms/step - loss: 0.0617 - accuracy: 0.9815 - val_loss: 6.7280 - val_accuracy: 0.3492\n",
            "Epoch 20/20\n",
            "391/391 [==============================] - 5s 12ms/step - loss: 0.0474 - accuracy: 0.9855 - val_loss: 7.2704 - val_accuracy: 0.3536\n"
          ]
        }
      ]
    },
    {
      "cell_type": "code",
      "source": [
        "#save model after training\n",
        "model.save('final_cifar100.h5')"
      ],
      "metadata": {
        "id": "jbk1AOW6PqJW"
      },
      "execution_count": null,
      "outputs": []
    },
    {
      "cell_type": "code",
      "source": [
        "#load model \n",
        "from keras.models import load_model\n",
        "model =load_model('/content/drive/MyDrive/final_cifar100.h5')"
      ],
      "metadata": {
        "id": "ue8BNByzQEVM"
      },
      "execution_count": 1,
      "outputs": []
    },
    {
      "cell_type": "code",
      "source": [
        "from keras.preprocessing.image import load_img,img_to_array\n",
        "import numpy as np\n",
        "from keras_preprocessing import image\n",
        "\n",
        "classes = ['apple', 'aquarium_fish', 'baby', 'bear', \n",
        "         'beaver', 'bed', 'bee', 'beetle', 'bicycle', 'bottle', 'bowl', 'boy', 'bridge', 'bus', 'butterfly',\n",
        "         'camel', 'can', 'castle', 'caterpillar', 'cattle', 'chair', 'chimpanzee', 'clock', \n",
        "         'cloud', 'cockroach', 'couch', 'crab', 'crocodile', 'cup', 'dinosaur', 'dolphin', \n",
        "         'elephant', 'flatfish', 'forest', 'fox', 'girl', 'hamster', 'house', 'kangaroo', \n",
        "         'keyboard', 'lamp', 'lawn_mower', 'leopard', 'lion', 'lizard', 'lobster', 'man', \n",
        "         'maple_tree', 'motorcycle', 'mountain', 'mouse', 'mushroom', 'oak_tree', 'orange', \n",
        "         'orchid', 'otter', 'palm_tree', 'pear', 'pickup_truck', 'pine_tree', 'plain', 'plate', \n",
        "         'poppy', 'porcupine', 'possum', 'rabbit', 'raccoon', 'ray', 'road', 'rocket', 'rose', 'sea',\n",
        "         'seal', 'shark', 'shrew', 'skunk', 'skyscraper', 'snail', 'snake', 'spider', 'squirrel', 'streetcar', \n",
        "         'sunflower', 'sweet_pepper', 'table', 'tank', 'telephone', 'television', 'tiger', 'tractor', 'train', \n",
        "         'trout', 'tulip', 'turtle', 'wardrobe', 'whale', 'willow_tree', 'wolf', 'woman', 'worm']\n",
        "\n",
        "test_image = image.load_img('/content/tiger.jpg', target_size=(32, 32))\n",
        "plt.imshow(test_image)\n",
        "test_image = image.img_to_array(test_image)\n",
        "test_image = np.expand_dims(test_image, axis=0)\n",
        "result = model.predict(test_image)\n",
        "result1 = np.argmax(result,axis = 1)\n",
        "print(result1)\n",
        "result1 = result[0]\n",
        "for y in range(100):\n",
        "    if result1[y] == 1.:\n",
        "        break\n",
        "prediction = classes[y]\n",
        "print(prediction)"
      ],
      "metadata": {
        "colab": {
          "base_uri": "https://localhost:8080/",
          "height": 301
        },
        "id": "pMVAZNLrSQAF",
        "outputId": "2bfe986b-99fe-4569-83eb-962a7500dca4"
      },
      "execution_count": 7,
      "outputs": [
        {
          "output_type": "stream",
          "name": "stdout",
          "text": [
            "[88]\n",
            "tiger\n"
          ]
        },
        {
          "output_type": "display_data",
          "data": {
            "text/plain": [
              "<Figure size 432x288 with 1 Axes>"
            ],
            "image/png": "[encoded data removed]"
          },
          "metadata": {
            "needs_background": "light"
          }
        }
      ]
    },
    {
      "cell_type": "code",
      "source": [
        ""
      ],
      "metadata": {
        "id": "rUTpWRNoZP5h"
      },
      "execution_count": null,
      "outputs": []
    },
    {
      "cell_type": "code",
      "source": [
        ""
      ],
      "metadata": {
        "id": "rJrXfE1nfCRL"
      },
      "execution_count": null,
      "outputs": []
    }
  ]
}